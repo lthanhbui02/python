{
 "cells": [
  {
   "cell_type": "code",
   "execution_count": 68,
   "metadata": {},
   "outputs": [],
   "source": [
    "import math"
   ]
  },
  {
   "cell_type": "code",
   "execution_count": 69,
   "metadata": {},
   "outputs": [
    {
     "name": "stdout",
     "output_type": "stream",
     "text": [
      "0.0015926529164868282\n",
      "1.0\n"
     ]
    }
   ],
   "source": [
    "#tính sin cos trong python\n",
    "print(math.sin(3.14))\n",
    "print(math.sin(math.pi / 2))"
   ]
  },
  {
   "cell_type": "code",
   "execution_count": 70,
   "metadata": {},
   "outputs": [
    {
     "name": "stdout",
     "output_type": "stream",
     "text": [
      "Giá trị tuyệt đối của x là 5\n"
     ]
    }
   ],
   "source": [
    "#tính giá trị tuyệt đối trong python\n",
    "x = -5\n",
    "print(\"Giá trị tuyệt đối của x là\", abs(x))"
   ]
  },
  {
   "cell_type": "code",
   "execution_count": 71,
   "metadata": {},
   "outputs": [
    {
     "name": "stdout",
     "output_type": "stream",
     "text": [
      "1024.0\n"
     ]
    }
   ],
   "source": [
    "#hàm mũ\n",
    "a = 4\n",
    "b = 5\n",
    "print(math.pow(a, b)) #in ra kết quả a**b"
   ]
  },
  {
   "cell_type": "code",
   "execution_count": 72,
   "metadata": {},
   "outputs": [
    {
     "name": "stdout",
     "output_type": "stream",
     "text": [
      "The value of log2 of 16 is : 12.0\n",
      "The value of log10 of 10000 is : 4.0\n"
     ]
    }
   ],
   "source": [
    "\n",
    "print (\"The value of log2 of 16 is : \", end=\"\") \n",
    "print (math.log2(4096)) \n",
    "   \n",
    "# returning the log10 of 10000 \n",
    "print (\"The value of log10 of 10000 is : \", end=\"\") \n",
    "print (math.log10(10000)) "
   ]
  }
 ],
 "metadata": {
  "interpreter": {
   "hash": "f4061b1551908dc8dc3089eda1c818048424098066405347be1552a7c08b9755"
  },
  "kernelspec": {
   "display_name": "Python 3.9.6 64-bit",
   "language": "python",
   "name": "python3"
  },
  "language_info": {
   "codemirror_mode": {
    "name": "ipython",
    "version": 3
   },
   "file_extension": ".py",
   "mimetype": "text/x-python",
   "name": "python",
   "nbconvert_exporter": "python",
   "pygments_lexer": "ipython3",
   "version": "3.9.6"
  },
  "orig_nbformat": 4
 },
 "nbformat": 4,
 "nbformat_minor": 2
}
