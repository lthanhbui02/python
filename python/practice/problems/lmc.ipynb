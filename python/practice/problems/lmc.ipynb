{
 "cells": [
  {
   "cell_type": "code",
   "execution_count": 6,
   "metadata": {},
   "outputs": [
    {
     "name": "stdout",
     "output_type": "stream",
     "text": [
      "Question: \n",
      "[[0 0 0 0 0]\n",
      " [0 1 1 0 0]\n",
      " [0 1 1 0 0]\n",
      " [0 1 1 0 0]\n",
      " [0 0 0 0 0]]\n",
      "Key: \n",
      "[[0 0 0 0 0]\n",
      " [0 1 1 0 0]\n",
      " [0 0 0 1 0]\n",
      " [0 1 1 0 0]\n",
      " [0 0 0 0 0]]\n"
     ]
    }
   ],
   "source": [
    "import numpy as np\n",
    "def solve(board, n):\n",
    "    def counting(board, i, j, n):\n",
    "        #ham dem so hang xom\n",
    "        number = 0\n",
    "        for a in range(i - 1, i + 2):\n",
    "            for b in range(j - 1, j + 2):\n",
    "                if a >= 0 and a <= n - 1 and b >= 0 and b <= n - 1:\n",
    "                    if a!=i or b!=j:\n",
    "                        if board[a][b] == 1:\n",
    "                            number += 1\n",
    "        return number\n",
    "    neightbor = [[0 for _ in range(n)] for _ in range(n)]\n",
    "    #neightbor nxn dem so hang xom de khong cap nhat vao bang\n",
    "    for a in range(n):\n",
    "        for b in range(n):\n",
    "            neightbor[a][b] = counting(board, a, b, n)\n",
    "    #!!!!!!!! solve\n",
    "    for q in range(1, n - 1):\n",
    "        for w in range(1, n - 1):\n",
    "            if board[q][w] == 1 and neightbor[q][w] < 2:\n",
    "                board[q][w] = 0\n",
    "            elif board[q][w] == 1 and neightbor[q][w] == 2:\n",
    "                board[q][w] = 1\n",
    "            elif board[q][w] == 1 and neightbor[q][w] == 3:\n",
    "                board[q][w] = 1\n",
    "            elif board[q][w] == 1 and neightbor[q][w] > 3:\n",
    "                board[q][w] = 0\n",
    "            elif board[q][w] == 0 and neightbor[q][w] == 3:\n",
    "                board[q][w] = 1\n",
    "            elif board[q][w] == 0:\n",
    "                board[q][w] = 0\n",
    "    return board\n",
    "board = [[0,0,0,0,0],\n",
    "        [0,1,1,0,0],\n",
    "        [0,1,1,0,0],\n",
    "        [0,1,1,0,0],\n",
    "        [0,0,0,0,0]]\n",
    "npboard = np.array(board)\n",
    "n = len(board[0])\n",
    "print(\"Question: \")\n",
    "print(npboard)\n",
    "print(\"Key: \")\n",
    "print(solve(npboard, n))\n"
   ]
  }
 ],
 "metadata": {
  "interpreter": {
   "hash": "f4061b1551908dc8dc3089eda1c818048424098066405347be1552a7c08b9755"
  },
  "kernelspec": {
   "display_name": "Python 3.9.6 64-bit",
   "language": "python",
   "name": "python3"
  },
  "language_info": {
   "codemirror_mode": {
    "name": "ipython",
    "version": 3
   },
   "file_extension": ".py",
   "mimetype": "text/x-python",
   "name": "python",
   "nbconvert_exporter": "python",
   "pygments_lexer": "ipython3",
   "version": "3.9.6"
  },
  "orig_nbformat": 4
 },
 "nbformat": 4,
 "nbformat_minor": 2
}
