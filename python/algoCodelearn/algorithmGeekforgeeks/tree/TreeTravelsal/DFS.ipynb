{
 "cells": [
  {
   "cell_type": "code",
   "execution_count": 1,
   "metadata": {},
   "outputs": [
    {
     "name": "stdout",
     "output_type": "stream",
     "text": [
      "8\n",
      "9\n",
      "4\n",
      "5\n",
      "2\n",
      "6\n",
      "7\n",
      "3\n",
      "1\n"
     ]
    }
   ],
   "source": [
    "class treeAlgorithms:\n",
    "    def __init__(self, size):\n",
    "        self.customList = size * [None] #null\n",
    "        self.lastUsedIndex = 0\n",
    "        self.maxSize = size\n",
    "    \n",
    "    def insertNode(self, value):\n",
    "        if self.lastUsedIndex + 1 == self.maxSize:\n",
    "            return \"TreeFull\"\n",
    "        self.customList[self.lastUsedIndex + 1] = value\n",
    "        self.lastUsedIndex += 1\n",
    "        return \"Insert success\"\n",
    "    \n",
    "    def KLR(self, index): #travelsal: key -> left -> right\n",
    "        if index > self.lastUsedIndex:\n",
    "            return\n",
    "        print(self.customList[index])\n",
    "        self.KLR(index * 2)\n",
    "        self.KLR(index * 2 + 1)\n",
    "    def LKR(self, index): #travelsal: left -> key -> right\n",
    "        if index > self.lastUsedIndex:\n",
    "            return\n",
    "        self.LKR(index * 2)\n",
    "        print(self.customList[index])\n",
    "        self.LKR(index * 2 + 1)\n",
    "    def LRK(self, index): #travelsal: left -> right -> key\n",
    "        if index > self.lastUsedIndex:\n",
    "            return\n",
    "        self.LRK(index * 2)\n",
    "        self.LRK(index * 2 + 1)\n",
    "        print(self.customList[index])\n",
    "newBT = treeAlgorithms(10)\n",
    "# 3 nut trong do co 1 nut [0] used.\n",
    "for i in range(1, 10):\n",
    "    newBT.insertNode(str(i)) #insert các số từ 1 đến 9 vào cây\n",
    "newBT.LRK(1)\n",
    "        "
   ]
  }
 ],
 "metadata": {
  "interpreter": {
   "hash": "f4061b1551908dc8dc3089eda1c818048424098066405347be1552a7c08b9755"
  },
  "kernelspec": {
   "display_name": "Python 3.9.6 64-bit",
   "language": "python",
   "name": "python3"
  },
  "language_info": {
   "codemirror_mode": {
    "name": "ipython",
    "version": 3
   },
   "file_extension": ".py",
   "mimetype": "text/x-python",
   "name": "python",
   "nbconvert_exporter": "python",
   "pygments_lexer": "ipython3",
   "version": "3.9.6"
  },
  "orig_nbformat": 4
 },
 "nbformat": 4,
 "nbformat_minor": 2
}
