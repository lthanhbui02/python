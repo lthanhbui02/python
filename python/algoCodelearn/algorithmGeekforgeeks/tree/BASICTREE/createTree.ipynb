{
 "cells": [
  {
   "cell_type": "code",
   "execution_count": 3,
   "metadata": {},
   "outputs": [],
   "source": [
    "class treeAlgorithms:\n",
    "    def __init__(self, size):\n",
    "        self.customList = size * [None] #null\n",
    "        self.lastUsedIndex = 0\n",
    "        self.maxSize = size\n",
    "    \n",
    "    def insertNode(self, value):\n",
    "        if self.lastUsedIndex + 1 == self.maxSize:\n",
    "            return \"TreeFull\"\n",
    "        self.customList[self.lastUsedIndex + 1] = value\n",
    "        self.lastUsedIndex += 1\n",
    "        return \"Insert success\"\n",
    "    \n",
    "    def findingNode(self, value):\n",
    "        for i in range(len(self.customList)):\n",
    "            if self.customList[i] == value:\n",
    "                return i\n",
    "        return \"Value not found.\"\n",
    "newBT = treeAlgorithms(4)\n",
    "# 3 nut trong do co 1 nut [0] used.\n",
    "newBT.insertNode(\"Root\")\n",
    "newBT.insertNode(\"LeftRoot\")\n",
    "newBT.insertNode(\"RightRoot\")\n",
    "node = \"LeftRoot\"\n",
    "location = newBT.findingNode(\"LeftRoot\")\n",
    "        "
   ]
  },
  {
   "cell_type": "code",
   "execution_count": null,
   "metadata": {},
   "outputs": [],
   "source": [
    "                      "
   ]
  }
 ],
 "metadata": {
  "interpreter": {
   "hash": "f4061b1551908dc8dc3089eda1c818048424098066405347be1552a7c08b9755"
  },
  "kernelspec": {
   "display_name": "Python 3.9.6 64-bit",
   "language": "python",
   "name": "python3"
  },
  "language_info": {
   "codemirror_mode": {
    "name": "ipython",
    "version": 3
   },
   "file_extension": ".py",
   "mimetype": "text/x-python",
   "name": "python",
   "nbconvert_exporter": "python",
   "pygments_lexer": "ipython3",
   "version": "3.9.6"
  },
  "orig_nbformat": 4
 },
 "nbformat": 4,
 "nbformat_minor": 2
}
