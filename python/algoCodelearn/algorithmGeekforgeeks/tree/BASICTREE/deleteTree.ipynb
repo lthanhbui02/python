{
 "cells": [
  {
   "cell_type": "code",
   "execution_count": 6,
   "metadata": {},
   "outputs": [
    {
     "name": "stdout",
     "output_type": "stream",
     "text": [
      "RightRoot\n"
     ]
    },
    {
     "data": {
      "text/plain": [
       "'Tree clear'"
      ]
     },
     "execution_count": 6,
     "metadata": {},
     "output_type": "execute_result"
    }
   ],
   "source": [
    "class treeAlgorithms:\n",
    "    def __init__(self, size):\n",
    "        self.customList = size * [None] #null\n",
    "        self.lastUsedIndex = 0\n",
    "        self.maxSize = size\n",
    "    \n",
    "    def insertNode(self, value):\n",
    "        if self.lastUsedIndex + 1 == self.maxSize:\n",
    "            return \"TreeFull\"\n",
    "        self.customList[self.lastUsedIndex + 1] = value\n",
    "        self.lastUsedIndex += 1\n",
    "        return \"Insert success\"\n",
    "    \n",
    "    def DeleteTree(self):\n",
    "        self.customList = None\n",
    "        return \"Tree clear\"\n",
    "newBT = treeAlgorithms(4)\n",
    "# 3 nut trong do co 1 nut [0] used.\n",
    "newBT.insertNode(\"Root\")\n",
    "newBT.insertNode(\"LeftRoot\")\n",
    "newBT.insertNode(\"RightRoot\")\n",
    "print(newBT.customList[3])\n",
    "newBT.DeleteTree()\n",
    "\n",
    "        "
   ]
  }
 ],
 "metadata": {
  "interpreter": {
   "hash": "f4061b1551908dc8dc3089eda1c818048424098066405347be1552a7c08b9755"
  },
  "kernelspec": {
   "display_name": "Python 3.9.6 64-bit",
   "language": "python",
   "name": "python3"
  },
  "language_info": {
   "codemirror_mode": {
    "name": "ipython",
    "version": 3
   },
   "file_extension": ".py",
   "mimetype": "text/x-python",
   "name": "python",
   "nbconvert_exporter": "python",
   "pygments_lexer": "ipython3",
   "version": "3.9.6"
  },
  "orig_nbformat": 4
 },
 "nbformat": 4,
 "nbformat_minor": 2
}
