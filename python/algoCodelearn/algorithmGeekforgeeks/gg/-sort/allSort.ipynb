{
 "cells": [
  {
   "cell_type": "code",
   "execution_count": null,
   "metadata": {},
   "outputs": [],
   "source": [
    "#3 basic Sort algorithms: bubble, insertion, selection"
   ]
  },
  {
   "cell_type": "code",
   "execution_count": 7,
   "metadata": {},
   "outputs": [
    {
     "name": "stdout",
     "output_type": "stream",
     "text": [
      "[1, 2, 3, 4, 5]\n"
     ]
    }
   ],
   "source": [
    "#bubbleSort: sắp xếp những phần tử lớn nhất lên trên đầu(bubble)\n",
    "def bubbleSort(arr):\n",
    "    length = len(arr)\n",
    "    for i in range(0, length):\n",
    "        #vòng lặp thể hiện đã sắp xếp được i phần tử lớn nhất về cuối dãy\n",
    "        for j in range(0, length - i - 1):\n",
    "            if arr[j] > arr[j + 1]:\n",
    "                arr[j], arr[j + 1] = arr[j + 1], arr[j]\n",
    "                #tmp = a\n",
    "                #a = b\n",
    "                #b = tmp\n",
    "    return arr\n",
    "print(bubbleSort([5, 4, 3, 2, 1]))"
   ]
  },
  {
   "cell_type": "code",
   "execution_count": 8,
   "metadata": {},
   "outputs": [
    {
     "name": "stdout",
     "output_type": "stream",
     "text": [
      "[1, 2, 3, 4, 5]\n"
     ]
    }
   ],
   "source": [
    "#duyệt đến đâu sắp xếp đến đấy\n",
    "def insertionSort(arr):\n",
    "    length = len(arr)\n",
    "    for i in range(1, len(arr)):\n",
    "        j = i - 1 \n",
    "        while j >= 0 and arr[j] > arr[j + 1]: #duyệt xem phần tử đã về đúng chỗ chưa\n",
    "            arr[j], arr[j + 1] = arr[j + 1], arr[j]\n",
    "            j -= 1\n",
    "    return arr\n",
    "print(insertionSort([5, 4, 3, 2, 1]))"
   ]
  },
  {
   "cell_type": "code",
   "execution_count": 9,
   "metadata": {},
   "outputs": [
    {
     "name": "stdout",
     "output_type": "stream",
     "text": [
      "[1, 2, 3, 4, 5]\n"
     ]
    }
   ],
   "source": [
    "#selectionSort: thuật toán sắp xếp tìm cái min về đầu\n",
    "def selectionSort(arr):\n",
    "    length = len(arr)\n",
    "    for i in range(0, length - 1):\n",
    "        min_index = i #đặt phần tử nhỏ nhất là 0\n",
    "        for j in range(i + 1, length): #duyệt từ phần tử 1 đến cuối \n",
    "            if arr[j] < arr[min_index]: #có phần tử nào nhỏ hơn thì\n",
    "                min_index = j          #<------ set min lại\n",
    "        if min_index != i:\n",
    "            arr[min_index], arr[i] = arr[i], arr[min_index]\n",
    "    return arr\n",
    "print(selectionSort([5, 4, 3, 2, 1]))"
   ]
  }
 ],
 "metadata": {
  "interpreter": {
   "hash": "f4061b1551908dc8dc3089eda1c818048424098066405347be1552a7c08b9755"
  },
  "kernelspec": {
   "display_name": "Python 3.9.6 64-bit",
   "language": "python",
   "name": "python3"
  },
  "language_info": {
   "codemirror_mode": {
    "name": "ipython",
    "version": 3
   },
   "file_extension": ".py",
   "mimetype": "text/x-python",
   "name": "python",
   "nbconvert_exporter": "python",
   "pygments_lexer": "ipython3",
   "version": "3.9.6"
  },
  "orig_nbformat": 4
 },
 "nbformat": 4,
 "nbformat_minor": 2
}
