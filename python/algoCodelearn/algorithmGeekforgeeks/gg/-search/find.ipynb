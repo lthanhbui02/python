{
 "cells": [
  {
   "cell_type": "code",
   "execution_count": 86,
   "metadata": {},
   "outputs": [
    {
     "name": "stdout",
     "output_type": "stream",
     "text": [
      "Not in array!\n"
     ]
    }
   ],
   "source": [
    "def binarySearch(arr, key, start, end):\n",
    "    if start <= end:\n",
    "        middle = (start + end) // 2\n",
    "        if arr[middle] == key:\n",
    "            return middle\n",
    "        elif arr[middle] > key:\n",
    "            return binarySearch(arr, key, start, middle - 1)\n",
    "        else: \n",
    "            return binarySearch(arr, key, middle + 1, end)\n",
    "    else:\n",
    "        return -1 #không có thì return -1\n",
    "\n",
    "arr = [x for x in range(0, 10000, 5)]\n",
    "key = 1111115\n",
    "result = binarySearch(arr, key, 0, len(arr) - 1) #nhớ là có len(arr) - 1\n",
    "if result == -1:\n",
    "    print(\"Not in array!\")\n",
    "else:\n",
    "    print(\"Location of\", key, \":\", result)"
   ]
  },
  {
   "cell_type": "code",
   "execution_count": 87,
   "metadata": {},
   "outputs": [
    {
     "name": "stdout",
     "output_type": "stream",
     "text": [
      "3\n"
     ]
    }
   ],
   "source": [
    "#linearSearch\n",
    "#low but easy to code\n",
    "def linearSearch(arr, key):\n",
    "    for i in range(0, len(arr)):\n",
    "        if arr[i] == key:\n",
    "            return i\n",
    "    return -1\n",
    "\n",
    "arr = [236,26,7,3]\n",
    "key = 3\n",
    "if linearSearch(arr, key) == -1:\n",
    "    print(\"Not in array!\")\n",
    "else:\n",
    "    print(linearSearch(arr, key))"
   ]
  }
 ],
 "metadata": {
  "interpreter": {
   "hash": "f4061b1551908dc8dc3089eda1c818048424098066405347be1552a7c08b9755"
  },
  "kernelspec": {
   "display_name": "Python 3.9.6 64-bit",
   "language": "python",
   "name": "python3"
  },
  "language_info": {
   "codemirror_mode": {
    "name": "ipython",
    "version": 3
   },
   "file_extension": ".py",
   "mimetype": "text/x-python",
   "name": "python",
   "nbconvert_exporter": "python",
   "pygments_lexer": "ipython3",
   "version": "3.9.6"
  },
  "orig_nbformat": 4
 },
 "nbformat": 4,
 "nbformat_minor": 2
}
