def fb(n):
    if n == 0:
        return 0
    elif n == 1 or n == 2:
        return 1 
    return fb(n - 2) + fb(n - 1)
print(fb(5))
