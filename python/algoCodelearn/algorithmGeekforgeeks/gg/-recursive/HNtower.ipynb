{
 "cells": [
  {
   "cell_type": "code",
   "execution_count": 2,
   "metadata": {},
   "outputs": [
    {
     "name": "stdout",
     "output_type": "stream",
     "text": [
      "Move 1 from start to end\n",
      "Move 2 from start to middle\n",
      "Move 1 from end to middle\n",
      "Move 3 from start to end\n",
      "Move 1 from middle to start\n",
      "Move 2 from middle to end\n",
      "Move 1 from start to end\n"
     ]
    }
   ],
   "source": [
    "def Hanoi(n, start, middle, end):\n",
    "    if n == 1:\n",
    "        print(\"Move\", n, \"from\", start, \"to\", end)\n",
    "        return()\n",
    "    Hanoi(n - 1, start, end, middle)\n",
    "    print(\"Move\", n, \"from\", start, \"to\", end)\n",
    "    Hanoi(n - 1, middle, start, end)\n",
    "Hanoi(3, \"start\", \"middle\", \"end\")"
   ]
  }
 ],
 "metadata": {
  "interpreter": {
   "hash": "f4061b1551908dc8dc3089eda1c818048424098066405347be1552a7c08b9755"
  },
  "kernelspec": {
   "display_name": "Python 3.9.6 64-bit",
   "language": "python",
   "name": "python3"
  },
  "language_info": {
   "codemirror_mode": {
    "name": "ipython",
    "version": 3
   },
   "file_extension": ".py",
   "mimetype": "text/x-python",
   "name": "python",
   "nbconvert_exporter": "python",
   "pygments_lexer": "ipython3",
   "version": "3.9.6"
  },
  "orig_nbformat": 4
 },
 "nbformat": 4,
 "nbformat_minor": 2
}
