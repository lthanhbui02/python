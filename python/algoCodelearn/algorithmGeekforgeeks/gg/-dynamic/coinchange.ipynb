{
 "cells": [
  {
   "cell_type": "code",
   "execution_count": 7,
   "metadata": {},
   "outputs": [],
   "source": [
    "#knapsack: bagweight và n thì bagweight là ngang\n",
    "#cuttingrod: j là độ dài cuộn dây cho phép cũng là ngang\n",
    "#special coinChange: money cho phép lại nằm dọc \n",
    "#table[0][i] = 1 để khi tính x i - moneyList[j] = 0 là còn trường hợp tờ tiền là chính nó không đổi -> + 1\n",
    "#-------------------------------------------------------------------------------------------\n",
    "#trong mỗi vòng lặp\n",
    "# --> x là trường hợp tính cả tờ tiền thứ j\n",
    "# --> y là trường hợp không tính tờ tiền đó\n",
    "#ví dụ là ô đổi 5K bằng các tờ 1, 2, 3K đã tính được ở trên.\n",
    "#x = trường hợp đổi tờ 2K bằng các tờ 1, 2, 3(có dùng tờ 3 nên sẽ là đổi tờ(5 - 3) bằng 1 2 3)\n",
    "#y = trường hợp đổi tờ 5K bằng các tờ 1, 2"
   ]
  },
  {
   "cell_type": "code",
   "execution_count": 8,
   "metadata": {},
   "outputs": [
    {
     "name": "stdout",
     "output_type": "stream",
     "text": [
      "Số cách đổi là: [[ 1  1  1  1  1  1  1  1  1  1]\n",
      " [ 1  1  1  1  1  1  1  1  1  1]\n",
      " [ 1  2  2  2  2  2  2  2  2  2]\n",
      " [ 1  2  3  3  3  3  3  3  3  3]\n",
      " [ 1  3  4  5  5  5  5  5  5  5]\n",
      " [ 1  3  5  6  7  7  7  7  7  7]\n",
      " [ 1  4  7  9 10 11 11 11 11 11]\n",
      " [ 1  4  8 11 13 14 15 15 15 15]\n",
      " [ 1  5 10 15 18 20 21 22 22 22]\n",
      " [ 1  5 12 18 23 26 28 29 30 30]\n",
      " [ 1  6 14 23 30 35 38 40 41 42]]\n"
     ]
    }
   ],
   "source": [
    "import numpy as np\n",
    "def coinChange(moneyList, length, money):\n",
    "    table = [[0 for x in range(length)] for x in range(money + 1)]\n",
    "    for i in range(length):\n",
    "        table[0][i] = 1\n",
    "    \n",
    "    for i in range(1, money + 1):\n",
    "        for j in range(length):\n",
    "            x = table[i - moneyList[j]][j] if i >= moneyList[j] else 0\n",
    "            y = table[i][j - 1] if j >= 1 else 0\n",
    "            table[i][j] = x + y\n",
    "    table = np.array(table)\n",
    "    return table#[money][length - 1]\n",
    "moneyList = [x for x in range(1, 11)]\n",
    "length = len(moneyList)\n",
    "money = 10\n",
    "print(f\"Số cách đổi là: {coinChange(moneyList, length, money)}\")"
   ]
  },
  {
   "cell_type": "code",
   "execution_count": null,
   "metadata": {},
   "outputs": [],
   "source": []
  }
 ],
 "metadata": {
  "interpreter": {
   "hash": "f4061b1551908dc8dc3089eda1c818048424098066405347be1552a7c08b9755"
  },
  "kernelspec": {
   "display_name": "Python 3.9.6 64-bit",
   "language": "python",
   "name": "python3"
  },
  "language_info": {
   "codemirror_mode": {
    "name": "ipython",
    "version": 3
   },
   "file_extension": ".py",
   "mimetype": "text/x-python",
   "name": "python",
   "nbconvert_exporter": "python",
   "pygments_lexer": "ipython3",
   "version": "3.9.6"
  },
  "orig_nbformat": 4
 },
 "nbformat": 4,
 "nbformat_minor": 2
}
