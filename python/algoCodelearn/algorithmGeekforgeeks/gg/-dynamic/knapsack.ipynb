{
 "cells": [
  {
   "cell_type": "code",
   "execution_count": 3,
   "metadata": {},
   "outputs": [],
   "source": [
    "#giải thích\n",
    "#tạo 1 board có chiều ngang là độ dài của túi xách: w\n",
    "#            có 1 cột là số đồ được mang theo\n",
    "#board[i][w] sẽ thể hiện số tiền max có thể đạt được khi được cho w weight và i items."
   ]
  },
  {
   "cell_type": "code",
   "execution_count": 4,
   "metadata": {},
   "outputs": [
    {
     "name": "stdout",
     "output_type": "stream",
     "text": [
      "We take 2 items:  2, 3\n",
      "22\n"
     ]
    }
   ],
   "source": [
    "def knapsackProblem(bagweight, weights, values, n):\n",
    "    board = [[0 for x in range(bagweight + 1)] for x in range(n + 1)]\n",
    "    for i in range(n + 1):\n",
    "        for w in range(bagweight + 1):\n",
    "            if i == 0 or w == 0:\n",
    "                board[i][w] = 0 \n",
    "            elif weights[i - 1] <= w:\n",
    "                board[i][w] = max(board[i - 1][w], values[i - 1] + board[i - 1][w - weights[i - 1]])\n",
    "            else:\n",
    "                board[i][w] = board[i - 1][w]\n",
    "    listItems = []\n",
    "    k = bagweight\n",
    "    for j in range(n, 0, -1):\n",
    "        if board[j][k] != 0 and board[j][k] != board[j - 1][k]:\n",
    "            listItems.append(str(j))\n",
    "            k -= weights[j - 1]\n",
    "    print(\"We take\", len(listItems), \"items: \", \", \".join(listItems[::-1]))\n",
    "    return board[n][bagweight]\n",
    "bagweight = 5\n",
    "weights = [1, 2, 3]\n",
    "values = [6, 10, 12]\n",
    "print(knapsackProblem(bagweight, weights, values, len(values)))"
   ]
  }
 ],
 "metadata": {
  "interpreter": {
   "hash": "f4061b1551908dc8dc3089eda1c818048424098066405347be1552a7c08b9755"
  },
  "kernelspec": {
   "display_name": "Python 3.9.6 64-bit",
   "language": "python",
   "name": "python3"
  },
  "language_info": {
   "codemirror_mode": {
    "name": "ipython",
    "version": 3
   },
   "file_extension": ".py",
   "mimetype": "text/x-python",
   "name": "python",
   "nbconvert_exporter": "python",
   "pygments_lexer": "ipython3",
   "version": "3.9.6"
  },
  "orig_nbformat": 4
 },
 "nbformat": 4,
 "nbformat_minor": 2
}
