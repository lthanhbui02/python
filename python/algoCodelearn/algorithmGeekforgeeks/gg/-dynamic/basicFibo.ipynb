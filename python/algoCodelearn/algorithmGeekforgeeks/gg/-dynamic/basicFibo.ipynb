{
 "cells": [
  {
   "cell_type": "code",
   "execution_count": 6,
   "metadata": {},
   "outputs": [],
   "source": [
    "#tạo 1 list có sẵn 2 phần tử tượng trưng cho số fibo(0) = 0 và fibo(1) = 1\n",
    "#sau đó thêm vào list những phần tử tiếp theo"
   ]
  },
  {
   "cell_type": "code",
   "execution_count": 7,
   "metadata": {},
   "outputs": [
    {
     "name": "stdout",
     "output_type": "stream",
     "text": [
      "102334155\n"
     ]
    }
   ],
   "source": [
    "def fibo(n):\n",
    "    list = [0, 1] #tạo sẵn fibo(0) = 0 và fibo(1) = 1\n",
    "    for i in range(2, n + 1):\n",
    "        list.append(list[i - 1] + list[i - 2])\n",
    "    return list[n]\n",
    "print(fibo(40))"
   ]
  },
  {
   "cell_type": "code",
   "execution_count": 8,
   "metadata": {},
   "outputs": [
    {
     "name": "stdout",
     "output_type": "stream",
     "text": [
      "Fibo 40: 102334155\n",
      "Fibo 100: 354224848179261915075\n"
     ]
    }
   ],
   "source": [
    "#add a table\n",
    "#less time but waste more memory\n",
    "table = {0: 0, 1: 1}\n",
    "def fibonacii(n, table): #top down (từ trên xuống)\n",
    "    if n not in table:\n",
    "        table[n] = fibonacii(n - 1, table) + fibonacii(n - 2, table)\n",
    "    return table[n]\n",
    "print(\"Fibo 40:\", fibonacii(40, table))\n",
    "\n",
    "#2\n",
    "def fibo(n, table): #bottom up (từ dưới lên)\n",
    "    for i in range(2, n + 1):\n",
    "        table[i] = table[i - 1] + table[i - 2]\n",
    "    return table[n]\n",
    "print(\"Fibo 100:\", fibo(100, table))"
   ]
  },
  {
   "cell_type": "code",
   "execution_count": 9,
   "metadata": {},
   "outputs": [
    {
     "name": "stdout",
     "output_type": "stream",
     "text": [
      "93326215443944152681699238856266700490715968264381621468592963895217599993229915608941463976156518286253697920827223758251185210916864000000000000000000000000\n"
     ]
    }
   ],
   "source": [
    "#tương tự với tính giai thừa:\n",
    "#giaithua = recursive\n",
    "def recursive(n):\n",
    "    if n == 1:\n",
    "        return 1\n",
    "    return n * recursive(n - 1)\n",
    "print(recursive(100))"
   ]
  },
  {
   "cell_type": "code",
   "execution_count": 10,
   "metadata": {},
   "outputs": [
    {
     "name": "stdout",
     "output_type": "stream",
     "text": [
      "24\n"
     ]
    }
   ],
   "source": [
    "def memorize(n, table):\n",
    "    for i in range(3, n + 1):\n",
    "        table[i] = table[i - 1] * i\n",
    "    return table[n]\n",
    "table = {0: 1, 1: 1, 2: 2}\n",
    "print(memorize(4, table))"
   ]
  }
 ],
 "metadata": {
  "interpreter": {
   "hash": "f4061b1551908dc8dc3089eda1c818048424098066405347be1552a7c08b9755"
  },
  "kernelspec": {
   "display_name": "Python 3.9.6 64-bit",
   "language": "python",
   "name": "python3"
  },
  "language_info": {
   "codemirror_mode": {
    "name": "ipython",
    "version": 3
   },
   "file_extension": ".py",
   "mimetype": "text/x-python",
   "name": "python",
   "nbconvert_exporter": "python",
   "pygments_lexer": "ipython3",
   "version": "3.9.6"
  },
  "orig_nbformat": 4
 },
 "nbformat": 4,
 "nbformat_minor": 2
}
