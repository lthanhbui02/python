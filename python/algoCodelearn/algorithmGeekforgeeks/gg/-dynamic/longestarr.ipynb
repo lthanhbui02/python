{
 "cells": [
  {
   "cell_type": "code",
   "execution_count": 5,
   "metadata": {},
   "outputs": [],
   "source": [
    "#giải thích:\n",
    "#tạo 1 dãy để đếm là xét từ phần tử đầu đến đó là có độ dài dãy con tăng dài nhất là bao nhiêu\n",
    "#ví dụ như 1 2 4\n",
    "#count[1] = 1\n",
    "#ta có 2 > 1 và count[của 2] < count[của 1] + 1: --> cho count[của 2] = count[của 1] + 1 vì dãy này dài hơn dãy cũ"
   ]
  },
  {
   "cell_type": "code",
   "execution_count": 6,
   "metadata": {},
   "outputs": [
    {
     "name": "stdout",
     "output_type": "stream",
     "text": [
      "[1, 2, 3, 1, 2, 3, 4]\n"
     ]
    }
   ],
   "source": [
    "def longestIncreasingarray(arr):\n",
    "    length = len(arr)\n",
    "    listCount = length * [1]\n",
    "    \n",
    "    for i in range(1, length):\n",
    "        for j in range(0, i):\n",
    "            if arr[i] > arr[j] and listCount[i] < listCount[j] + 1:\n",
    "                listCount[i] = listCount[j] + 1\n",
    "    \n",
    "    \n",
    "    #maxValue = max(listCount)\n",
    "    maxValue = listCount[0]\n",
    "    for i in range(1, length):\n",
    "        if listCount[i] > maxValue:\n",
    "            maxValue = listCount[i]\n",
    "    return listCount\n",
    "           #max(listCount)\n",
    "arr = [7,8,9,1,2,3,4]\n",
    "print(longestIncreasingarray(arr))"
   ]
  }
 ],
 "metadata": {
  "interpreter": {
   "hash": "f4061b1551908dc8dc3089eda1c818048424098066405347be1552a7c08b9755"
  },
  "kernelspec": {
   "display_name": "Python 3.9.6 64-bit",
   "language": "python",
   "name": "python3"
  },
  "language_info": {
   "codemirror_mode": {
    "name": "ipython",
    "version": 3
   },
   "file_extension": ".py",
   "mimetype": "text/x-python",
   "name": "python",
   "nbconvert_exporter": "python",
   "pygments_lexer": "ipython3",
   "version": "3.9.6"
  },
  "orig_nbformat": 4
 },
 "nbformat": 4,
 "nbformat_minor": 2
}
