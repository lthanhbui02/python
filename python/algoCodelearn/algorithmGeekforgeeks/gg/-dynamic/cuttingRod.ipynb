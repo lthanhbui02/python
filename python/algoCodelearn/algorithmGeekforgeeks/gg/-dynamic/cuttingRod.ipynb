{
 "cells": [
  {
   "cell_type": "code",
   "execution_count": 4,
   "metadata": {},
   "outputs": [],
   "source": [
    "#giải thích\n",
    "#tương tự với knapsackProblem, tạo 1 board với row và col bằng nhau\n",
    "#với i dọc là chiều dài của sợi dây(1 đoạn có 1 giá tiền khác nhau)\n",
    "#j là độ dài cho phép, vậy board[i][j] biểu thị giá tiền max khi cắt đoạn dây dài j với các đoạn từ 1 đên i\n"
   ]
  },
  {
   "cell_type": "code",
   "execution_count": 5,
   "metadata": {},
   "outputs": [
    {
     "name": "stdout",
     "output_type": "stream",
     "text": [
      "Cut into 2 pieces: 2, 6\n",
      "22\n"
     ]
    }
   ],
   "source": [
    "def cuttingRod(length, prices):\n",
    "    board = [[0 for x in range(length + 1)] for x in range(len(prices) + 1)]\n",
    "    for i in range(len(prices) + 1):\n",
    "        for j in range(length + 1):\n",
    "            if i == 0 or j == 0:\n",
    "                board[i][j] = 0\n",
    "            elif j < i:\n",
    "                board[i][j] = board[i - 1][j]\n",
    "            else:\n",
    "                board[i][j] = max(board[i - 1][j], prices[i - 1] + board[i - 1][j - i])\n",
    "    rowIndex = length\n",
    "    colIndex = length\n",
    "    listPieces = []\n",
    "    while rowIndex > 0 and colIndex > 0:\n",
    "        if board[rowIndex][colIndex] == board[rowIndex - 1][colIndex]:\n",
    "            rowIndex -= 1 \n",
    "        else:\n",
    "            listPieces.append(str(rowIndex))\n",
    "            colIndex -= rowIndex\n",
    "    print(\"Cut into\", len(listPieces), \"pieces:\", \", \".join(listPieces[::-1]))\n",
    "    return board[len(prices)][length]\n",
    "prices = [1, 5, 8, 9, 10, 17, 17, 20]\n",
    "length = len(prices)\n",
    "print(cuttingRod(length, prices))"
   ]
  }
 ],
 "metadata": {
  "interpreter": {
   "hash": "f4061b1551908dc8dc3089eda1c818048424098066405347be1552a7c08b9755"
  },
  "kernelspec": {
   "display_name": "Python 3.9.6 64-bit",
   "language": "python",
   "name": "python3"
  },
  "language_info": {
   "codemirror_mode": {
    "name": "ipython",
    "version": 3
   },
   "file_extension": ".py",
   "mimetype": "text/x-python",
   "name": "python",
   "nbconvert_exporter": "python",
   "pygments_lexer": "ipython3",
   "version": "3.9.6"
  },
  "orig_nbformat": 4
 },
 "nbformat": 4,
 "nbformat_minor": 2
}
