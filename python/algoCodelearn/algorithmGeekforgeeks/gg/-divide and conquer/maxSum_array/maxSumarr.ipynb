{
 "cells": [
  {
   "cell_type": "code",
   "execution_count": 11,
   "metadata": {},
   "outputs": [
    {
     "name": "stdout",
     "output_type": "stream",
     "text": [
      "21\n"
     ]
    }
   ],
   "source": [
    "#basic\n",
    "def maxSubarray(arr):\n",
    "    if len(arr) < 1:\n",
    "        return 0\n",
    "    length = len(arr)\n",
    "    maxValue = arr[0]\n",
    "    for i in range(1, length + 1):\n",
    "        for j in range(0, length - i + 1):\n",
    "            sum = 0\n",
    "            for k in range(j, j + i):\n",
    "                sum += arr[k]\n",
    "            if sum > maxValue:\n",
    "                maxValue = sum\n",
    "    return maxValue\n",
    "print(maxSubarray([2, 3, 4, 5, 7]))\n"
   ]
  },
  {
   "cell_type": "code",
   "execution_count": null,
   "metadata": {},
   "outputs": [],
   "source": [
    "#divide and conquer"
   ]
  }
 ],
 "metadata": {
  "interpreter": {
   "hash": "f4061b1551908dc8dc3089eda1c818048424098066405347be1552a7c08b9755"
  },
  "kernelspec": {
   "display_name": "Python 3.9.6 64-bit",
   "language": "python",
   "name": "python3"
  },
  "language_info": {
   "codemirror_mode": {
    "name": "ipython",
    "version": 3
   },
   "file_extension": ".py",
   "mimetype": "text/x-python",
   "name": "python",
   "nbconvert_exporter": "python",
   "pygments_lexer": "ipython3",
   "version": "3.9.6"
  },
  "orig_nbformat": 4
 },
 "nbformat": 4,
 "nbformat_minor": 2
}
