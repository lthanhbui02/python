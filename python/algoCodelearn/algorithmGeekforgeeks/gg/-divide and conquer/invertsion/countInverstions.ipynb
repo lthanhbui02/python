{
 "cells": [
  {
   "cell_type": "code",
   "execution_count": 33,
   "metadata": {},
   "outputs": [
    {
     "name": "stdout",
     "output_type": "stream",
     "text": [
      "0\n"
     ]
    }
   ],
   "source": [
    "#normal\n",
    "def countInverstions(arr):\n",
    "    length = len(arr)\n",
    "    count = 0\n",
    "    for i in range(length):\n",
    "        for j in range(i + 1, length):\n",
    "            if arr[j] < arr[i]:\n",
    "                count += 1\n",
    "    return count\n",
    "print(countInverstions([1,2,3]))"
   ]
  },
  {
   "cell_type": "code",
   "execution_count": 34,
   "metadata": {},
   "outputs": [
    {
     "name": "stdout",
     "output_type": "stream",
     "text": [
      "6\n"
     ]
    }
   ],
   "source": [
    "#link: https://www.interviewbit.com/blog/count-inversions-of-an-array/7\n",
    "def merge(arr, left, mid, right):\n",
    "    i = left\n",
    "    j = mid\n",
    "    k = 0\n",
    "    invCount = 0\n",
    "    temp = [0 for x in range(right - left + 1)]\n",
    "    while (i < mid) and (j <= right):\n",
    "        if arr[i] <= arr[j]:\n",
    "            temp[k] = arr[i]\n",
    "            k += 1\n",
    "            i += 1\n",
    "        else:\n",
    "            temp[k] = arr[j]\n",
    "            invCount += mid - i\n",
    "            k += 1\n",
    "            j += 1\n",
    "    while i < mid:\n",
    "        temp[k] = arr[i]\n",
    "        k += 1\n",
    "        i += 1\n",
    "    while j <= right:\n",
    "        temp[k] = arr[j]\n",
    "        k += 1\n",
    "        j += 1\n",
    "    k = 0\n",
    "    for i in range(left, right + 1):\n",
    "        arr[i] = temp[k]\n",
    "        k += 1\n",
    " \n",
    "    return invCount\n",
    "def mergeSort(arr, left, right):\n",
    "    invCount = 0\n",
    "    if right > left:\n",
    "        mid = (right + left) // 2\n",
    " \n",
    "        invCount = mergeSort(arr, left, mid) \n",
    "        invCount += mergeSort(arr, mid + 1, right)\n",
    "        invCount += merge(arr, left, mid + 1, right)\n",
    " \n",
    "    return invCount\n",
    "arr = [5,4,3,2]\n",
    "left = 0\n",
    "right = len(arr) - 1\n",
    "print(mergeSort(arr, left, right))\n",
    "\n"
   ]
  }
 ],
 "metadata": {
  "interpreter": {
   "hash": "f4061b1551908dc8dc3089eda1c818048424098066405347be1552a7c08b9755"
  },
  "kernelspec": {
   "display_name": "Python 3.9.6 64-bit",
   "language": "python",
   "name": "python3"
  },
  "language_info": {
   "codemirror_mode": {
    "name": "ipython",
    "version": 3
   },
   "file_extension": ".py",
   "mimetype": "text/x-python",
   "name": "python",
   "nbconvert_exporter": "python",
   "pygments_lexer": "ipython3",
   "version": "3.9.6"
  },
  "orig_nbformat": 4
 },
 "nbformat": 4,
 "nbformat_minor": 2
}
